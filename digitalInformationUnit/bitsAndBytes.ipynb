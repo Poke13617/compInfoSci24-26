{
 "cells": [
  {
   "cell_type": "markdown",
   "id": "7acde332",
   "metadata": {},
   "source": [
    "# Bits and Bytes"
   ]
  },
  {
   "cell_type": "markdown",
   "id": "854a06ef",
   "metadata": {},
   "source": [
    "Bit - the smallest unit of data. A bit is represented by either a 1 or a 0.\n"
   ]
  },
  {
   "cell_type": "markdown",
   "id": "387e2123",
   "metadata": {},
   "source": [
    "* Differentiates between 10000 \"Mega Bits\" or \"Mega Bytes\"\n",
    "\n",
    "Byte - this is a string of 8 1's or 0's\n",
    "\n",
    "When writing out bytes, put them in octets (string of 8 characters, set by a group of 4 1's or 0's. An octet is half of a byte) \n",
    "\n",
    "\n",
    "A --> 01000001\n",
    "David --> 01000100 01100001 01110110 01101001 01100100\n",
    "Computer Science --> (C)01000011 (o)01101111 (m)01101101 (p)01110000 (u)01110101 (t)01110100 (e)01100101 (r)01110010 (space)00100000 (S)01010011 (c)01100011 (i)01101001 (e)01100101 (n)01101110 (c)01100011 (e)01100101\n",
    "\n",
    "255 --> 00110010 00110101 00110101\n",
    "\n",
    "### Representing color"
   ]
  },
  {
   "cell_type": "markdown",
   "id": "b085c08a",
   "metadata": {},
   "source": [
    "\n",
    "-Hexidecimal --> #33 99 ee\n",
    "-RGB --> (255, 145, 98) --> 00110010 00110101 00110101, 00110001 00110100 00110101, 00111001 00111000"
   ]
  },
  {
   "cell_type": "markdown",
   "id": "25f34316",
   "metadata": {},
   "source": [
    "### Series of bits\n",
    "\n",
    "2 bits --> 4 different combinations: 00, 10, 01, 11\n",
    "3 bits ---> 8 different combinations: 000, 001, 010, 100 , 101, 110 011, 111\n",
    "4 bits --> 16 different combinations\n",
    "5 bits --> 32 different combinations\n",
    "6 bits --> 64 different combinations\n",
    "7 bits --> 128 different combinations\n",
    "8 bits --> 256 different combinations\n",
    "9 bits --> 512 different combinations\n",
    "10 bits --> 1024 different combinations\n",
    "11 bits --> 2048 different combinations"
   ]
  },
  {
   "cell_type": "markdown",
   "id": "468b1c03",
   "metadata": {},
   "source": [
    "### Bytes - is a combination of 8 bits"
   ]
  },
  {
   "cell_type": "markdown",
   "id": "f6ef7afb",
   "metadata": {},
   "source": [
    "0000 0101\n",
    "\n",
    "## Visualize Numbers and decimals\n"
   ]
  },
  {
   "cell_type": "markdown",
   "id": "2a329e97",
   "metadata": {},
   "source": [
    "234\n",
    "\n",
    "(2 * 100) + (3 * 10) + (4 * 1) = 234\n",
    "\n",
    "## Binary numbers\n",
    "\n",
    "                0   0   0   1\n",
    "128 64  32  16  8   4   2   1 --> Binary places\n",
    "    (8 * 0) + (4 * 0) + (2 * 0) + (1 * 1) = 1\n",
    "\n",
    "0   0   0   1   1   0   1   1\n",
    "\n",
    "(64 * 0) + (32 * 0) + (16 * 1) + (8 * 1) + (4 * 0) + (2 * 1) + (1 * 1)\n",
    "0 + 0 + 16 + 8 + 0 + 2 + 0 = 26\n",
    "\n",
    "____ .____  ____  ____  ____  ____  ____  ____  ____  ____  _____\n",
    "\n",
    "1024  512   256    128   64    32    16     8    4     2      1\n",
    "\n",
    "                                1      0     0       1      1     1 = 39\n",
    "                                \n",
    "                                1     0    1      0     1     1\n",
    "\n",
    "10000 = 32\n",
    "100000 = 64\n",
    "1000000 = 128\n",
    "10000000 = 256\n",
    "100000000 = 512\n",
    "111 = 7\n",
    "011111 = 31"
   ]
  },
  {
   "cell_type": "markdown",
   "id": "8922272b",
   "metadata": {},
   "source": [
    "## Limitations of storing numbers"
   ]
  },
  {
   "cell_type": "markdown",
   "id": "0b618ee9",
   "metadata": {},
   "source": [
    "<b>Fraction</b> - Any number without a decimal.\n",
    "\n",
    "Integers can be negative or positive:\n",
    "120, 10, 0, -20, 42\n",
    "\n",
    "#### Example of a computer using 4 bits to represent an integer\n",
    "\n",
    "    _________________________________________\n",
    "    |                                       |\n",
    "    |      n                                |\n",
    "    |     2             0 0 0 1             |\n",
    "    |       0-15        _ _ _ _             |\n",
    "    |    + -            8 4 2 1             |\n",
    "    |                                       |\n",
    "    |_______________________________________|\n",
    "\n",
    "\n",
    "0001\n",
    "\n",
    "<pre>+/-    4   2   1\n",
    "\n",
    "sign: 2^2 2^1 2^0</pre>"
   ]
  },
  {
   "cell_type": "markdown",
   "id": "c325e9c9",
   "metadata": {},
   "source": [
    "What would happen if we ran a program like this oon the 4-bit computer, where the largest positive integer.\n",
    "\n",
    "\n",
    "<b>Overflow</b> - Is when a computer reaches it's storage limit capabilities, so processing numbers any further will create an overflow error.\n",
    "\n"
   ]
  },
  {
   "cell_type": "code",
   "execution_count": 2,
   "id": "5fc9b7e0",
   "metadata": {},
   "outputs": [
    {
     "name": "stdout",
     "output_type": "stream",
     "text": [
      "8\n"
     ]
    }
   ],
   "source": [
    "x = 7\n",
    "y = x + 1  # 8\n",
    "# on a 4 bit machine, you would get an error:\n",
    "# Overflow error or Number is too large.\n",
    "\n",
    "# could truncate (change 8 to 7)\n",
    "# OR wrap the number around, (instead of 8, it would get stored as 1)\n",
    "print(y)"
   ]
  },
  {
   "cell_type": "markdown",
   "id": "e7b0496b",
   "metadata": {},
   "source": [
    "#### Modern computer systems use 64b architectures\n",
    "\n",
    "This means that modern computers can store numbers safely up to:\n",
    "## 9, 007, 199, 254, 740, 991   OR   2^53 - 1"
   ]
  },
  {
   "cell_type": "markdown",
   "id": "f058dc01",
   "metadata": {},
   "source": [
    "### Floating point representation"
   ]
  },
  {
   "cell_type": "markdown",
   "id": "0f93b289",
   "metadata": {},
   "source": [
    "Floating-point or decimal numbers are trickier to repeat in computer memory.\n",
    "\n",
    "Numbers like:\n",
    "<pre>2/5   1.234    9.999999999    3.14159...</pre>"
   ]
  },
  {
   "cell_type": "markdown",
   "id": "680bf069",
   "metadata": {},
   "source": [
    "Computers use <b>floating-point representation</b> for non-integers\n",
    "\n",
    "<pre>A number is multiplied by a base that's raised to an exponent:\n",
    "300 = 3 * 10^2\n",
    "\n",
    "Since we use BINARY:\n",
    "128 = 1 * 2^7\n",
    "256 = 1 * 2^8\n",
    "</pre>\n"
   ]
  },
  {
   "cell_type": "markdown",
   "id": "ab2d101c",
   "metadata": {},
   "source": [
    "<pre>Numbers between powers or 2:\n",
    "160 = 1.25 * 2^7\n",
    "192 = 1.50 * 2^7\n",
    "224 = 1.75 * 2^7\n",
    "\n",
    "\n",
    "\n",
    "</pre>\n",
    "### What about non- integers?\n",
    "\n",
    "<pre>\n",
    "0.50 = 1 * 2^-1\n",
    "0.25 = 1 * 2^-2</pre>\n",
    "\n",
    "\n",
    "### What about floating points?\n",
    "\n",
    "\n",
    "<pre>\n",
    "0.750 = 1.5 * 2^-1\n",
    "0.375 = 1.5 * 2^-2\n",
    "</pre>\n",
    "\n",
    "<pre>0.375 = 0011111111011000000000000000000000000000000000000000000000000000\n",
    "1 bit --> the sign\n",
    "11 bits --> the exponent\n",
    "52 bits --> number in front of decimal\n",
    "\n",
    "\n",
    "</pre>\n"
   ]
  },
  {
   "cell_type": "markdown",
   "id": "dd621028",
   "metadata": {},
   "source": [
    "### Round-off errors\n",
    "\n",
    "All floating-point numbers can not be fully represented using binary.\n",
    "\n",
    "1/3 = 0.333333333333...\n",
    "\n",
    "1/3 = 1.3 * 2^-2 = .01010101010101...\n",
    "<b>Round-off errors</b> - are errors that refuse to round a whole number to a whole number. They mostly put the number into a #.9999999999... or something similar"
   ]
  },
  {
   "cell_type": "code",
   "execution_count": 1,
   "id": "795a6eeb",
   "metadata": {},
   "outputs": [
    {
     "name": "stdout",
     "output_type": "stream",
     "text": [
      "0.30000000000000004\n"
     ]
    }
   ],
   "source": [
    "result = 0.1 + 0.1 + 0.1\n",
    "print(result)"
   ]
  },
  {
   "cell_type": "markdown",
   "id": "c459f2b8",
   "metadata": {},
   "source": [
    "The more bits with can use, the more precise our numbers and calculations will be. Modern 64-bit systems offer a high enough precision for low-stakes calculations."
   ]
  },
  {
   "cell_type": "markdown",
   "id": "d880c77e",
   "metadata": {},
   "source": []
  }
 ],
 "metadata": {
  "kernelspec": {
   "display_name": "Python 3",
   "language": "python",
   "name": "python3"
  },
  "language_info": {
   "codemirror_mode": {
    "name": "ipython",
    "version": 3
   },
   "file_extension": ".py",
   "mimetype": "text/x-python",
   "name": "python",
   "nbconvert_exporter": "python",
   "pygments_lexer": "ipython3",
   "version": "3.12.1"
  }
 },
 "nbformat": 4,
 "nbformat_minor": 5
}
