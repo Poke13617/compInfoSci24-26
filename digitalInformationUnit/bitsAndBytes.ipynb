{
 "cells": [
  {
   "cell_type": "markdown",
   "id": "7acde332",
   "metadata": {},
   "source": [
    "# Bits and Bytes"
   ]
  },
  {
   "cell_type": "markdown",
   "id": "854a06ef",
   "metadata": {},
   "source": [
    "Bit - the smallest unit of data. A bit is represented by either a 1 or a 0.\n"
   ]
  },
  {
   "cell_type": "markdown",
   "id": "387e2123",
   "metadata": {},
   "source": [
    "* Differentiates between 10000 \"Mega Bits\" or \"Mega Bytes\"\n",
    "\n",
    "Byte - this is a string of 8 1's or 0's\n",
    "\n",
    "When writing out bytes, put them in octets (string of 8 characters, set by a group of 4 1's or 0's. An octet is half of a byte) \n",
    "\n",
    "\n",
    "A --> 01000001\n",
    "David --> 01000100 01100001 01110110 01101001 01100100\n",
    "Computer Science --> (C)01000011 (o)01101111 (m)01101101 (p)01110000 (u)01110101 (t)01110100 (e)01100101 (r)01110010 (space)00100000 (S)01010011 (c)01100011 (i)01101001 (e)01100101 (n)01101110 (c)01100011 (e)01100101\n",
    "\n",
    "255 --> 00110010 00110101 00110101\n",
    "\n",
    "### Representing color"
   ]
  },
  {
   "cell_type": "markdown",
   "id": "b085c08a",
   "metadata": {},
   "source": [
    "\n",
    "-Hexidecimal --> #33 99 ee\n",
    "-RGB --> (255, 145, 98) --> 00110010 00110101 00110101, 00110001 00110100 00110101, 00111001 00111000"
   ]
  },
  {
   "cell_type": "markdown",
   "id": "25f34316",
   "metadata": {},
   "source": [
    "### Series of bits\n",
    "\n",
    "2 bits --> 4 different combinations: 00, 10, 01, 11\n",
    "3 bits ---> 8 different combinations: 000, 001, 010, 100 , 101, 110 011, 111\n",
    "4 bits --> 16 different combinations\n",
    "5 bits --> 32 different combinations\n",
    "6 bits --> 64 different combinations\n",
    "7 bits --> 128 different combinations\n",
    "8 bits --> 256 different combinations\n",
    "9 bits --> 512 different combinations\n",
    "10 bits --> 1024 different combinations\n",
    "11 bits --> 2048 different combinations"
   ]
  },
  {
   "cell_type": "markdown",
   "id": "468b1c03",
   "metadata": {},
   "source": [
    "### Bytes - is a combination of 8 bits"
   ]
  },
  {
   "cell_type": "markdown",
   "id": "f6ef7afb",
   "metadata": {},
   "source": []
  }
 ],
 "metadata": {
  "kernelspec": {
   "display_name": "Python 3",
   "language": "python",
   "name": "python3"
  },
  "language_info": {
   "name": "python",
   "version": "3.12.1"
  }
 },
 "nbformat": 4,
 "nbformat_minor": 5
}
